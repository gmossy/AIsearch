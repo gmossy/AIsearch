{
  "nbformat": 4,
  "nbformat_minor": 0,
  "metadata": {
    "colab": {
      "provenance": [],
      "include_colab_link": true
    },
    "kernelspec": {
      "name": "python3",
      "display_name": "Python 3"
    },
    "language_info": {
      "name": "python"
    }
  },
  "cells": [
    {
      "cell_type": "markdown",
      "metadata": {
        "id": "view-in-github",
        "colab_type": "text"
      },
      "source": [
        "<a href=\"https://colab.research.google.com/github/gmossy/AIsearch/blob/main/Using_Elasticsearch_from_Colab_using_Bonsai.ipynb\" target=\"_parent\"><img src=\"https://colab.research.google.com/assets/colab-badge.svg\" alt=\"Open In Colab\"/></a>"
      ]
    },
    {
      "cell_type": "markdown",
      "source": [
        "# Using Elasticsearch from Colab using [Bonsai](https://bonsai.io)\n",
        "\n",
        "This notebook comes form [this blog post](https://softwaredoug.com/blog/2022/09/11/using-elasticsearch-from-colab.html) and demonstrates how to use a free tier Bonsai Elasticsearch cluster from a Colab notebook. "
      ],
      "metadata": {
        "id": "HnQthGqHngHQ"
      }
    },
    {
      "cell_type": "markdown",
      "source": [
        "## Install Elasticsearch Client, get Retrotech Dataset"
      ],
      "metadata": {
        "id": "lfkHYwGXnZ-3"
      }
    },
    {
      "cell_type": "code",
      "execution_count": null,
      "metadata": {
        "colab": {
          "base_uri": "https://localhost:8080/"
        },
        "id": "dY8sl8wMeUSd",
        "outputId": "0c5ca173-68a2-474a-8fef-d08c52466d92"
      },
      "outputs": [
        {
          "output_type": "stream",
          "name": "stdout",
          "text": [
            "Looking in indexes: https://pypi.org/simple, https://us-python.pkg.dev/colab-wheels/public/simple/\n",
            "Collecting elasticsearch==7.10.1\n",
            "  Downloading elasticsearch-7.10.1-py2.py3-none-any.whl (322 kB)\n",
            "\u001b[K     |████████████████████████████████| 322 kB 4.1 MB/s \n",
            "\u001b[?25hRequirement already satisfied: certifi in /usr/local/lib/python3.7/dist-packages (from elasticsearch==7.10.1) (2022.6.15)\n",
            "Requirement already satisfied: urllib3<2,>=1.21.1 in /usr/local/lib/python3.7/dist-packages (from elasticsearch==7.10.1) (1.24.3)\n",
            "Installing collected packages: elasticsearch\n",
            "Successfully installed elasticsearch-7.10.1\n",
            "Cloning into 'retrotech'...\n",
            "remote: Enumerating objects: 33, done.\u001b[K\n",
            "remote: Total 33 (delta 0), reused 0 (delta 0), pack-reused 33\u001b[K\n",
            "Unpacking objects: 100% (33/33), done.\n",
            "Already up to date.\n",
            "products.csv\n",
            "signals.csv\n"
          ]
        }
      ],
      "source": [
        "!pip install elasticsearch==7.10.1\n",
        "![ ! -d 'retrotech' ] && git clone https://github.com/ai-powered-search/retrotech.git\n",
        "! cd retrotech && git pull\n",
        "! cd retrotech && tar -xvf products.tgz  && tar -xvf signals.tgz"
      ]
    },
    {
      "cell_type": "markdown",
      "source": [
        "## Paste in your \"Full URL\" from Bonsai\n",
        "\n",
        "See how to set this up in [this blog post](https://softwaredoug.com/blog/2022/09/11/using-elasticsearch-from-colab.html)"
      ],
      "metadata": {
        "id": "p2u-WEienUab"
      }
    },
    {
      "cell_type": "code",
      "source": [
        "import getpass\n",
        "es_url = getpass.getpass(\"Paste in your Elasticsearch URL\")"
      ],
      "metadata": {
        "colab": {
          "base_uri": "https://localhost:8080/"
        },
        "id": "dEXPYz9NeXNZ",
        "outputId": "9e0ceed3-fcd4-4518-ea22-4448217c5bea"
      },
      "execution_count": null,
      "outputs": [
        {
          "name": "stdout",
          "output_type": "stream",
          "text": [
            "Paste in your Elasticsearch URL··········\n"
          ]
        }
      ]
    },
    {
      "cell_type": "markdown",
      "source": [
        "## Setup Elasticsearch Client"
      ],
      "metadata": {
        "id": "Zd-RkAGhoDHf"
      }
    },
    {
      "cell_type": "code",
      "source": [
        "from elasticsearch import Elasticsearch\n",
        "es = Elasticsearch(es_url)\n",
        "es.ping()"
      ],
      "metadata": {
        "colab": {
          "base_uri": "https://localhost:8080/"
        },
        "id": "wct0DCRrnPIN",
        "outputId": "1eaaa660-9c94-4bf9-973d-9c486f9b8a1c"
      },
      "execution_count": null,
      "outputs": [
        {
          "output_type": "execute_result",
          "data": {
            "text/plain": [
              "True"
            ]
          },
          "metadata": {},
          "execution_count": 8
        }
      ]
    },
    {
      "cell_type": "markdown",
      "source": [
        "## Index retrotech data (downloaded in first cell)"
      ],
      "metadata": {
        "id": "L63STpCJoUOA"
      }
    },
    {
      "cell_type": "code",
      "source": [
        "import csv\n",
        "from elasticsearch.helpers import bulk\n",
        "from elasticsearch import RequestError\n",
        "\n",
        "def retrotech_data():\n",
        "  with open('retrotech/products.csv') as csv_file:\n",
        "    products_reader = csv.DictReader(csv_file)\n",
        "    for row in products_reader:\n",
        "      yield {\n",
        "        '_source': row,\n",
        "        '_index': 'retrotech',\n",
        "        '_id': row['upc']\n",
        "      }\n",
        "\n",
        "try:\n",
        "  es.indices.create('retrotech')\n",
        "  bulk(es, retrotech_data())\n",
        "except RequestError:\n",
        "  print(\"Not recreating index that already exists\")"
      ],
      "metadata": {
        "id": "HQUjAaLyoQxo",
        "colab": {
          "base_uri": "https://localhost:8080/"
        },
        "outputId": "d67abd95-d5fb-470f-8355-068bee590028"
      },
      "execution_count": null,
      "outputs": [
        {
          "output_type": "stream",
          "name": "stderr",
          "text": [
            "WARNING:elasticsearch:PUT https://training-test-2640545973.us-east-1.bonsaisearch.net:443/retrotech [status:400 request:0.025s]\n"
          ]
        },
        {
          "output_type": "stream",
          "name": "stdout",
          "text": [
            "Not recreating index that already exists\n"
          ]
        }
      ]
    },
    {
      "cell_type": "markdown",
      "source": [
        "## Search!"
      ],
      "metadata": {
        "id": "oDxOxyb-oc7s"
      }
    },
    {
      "cell_type": "code",
      "source": [
        "hits = es.search(index='retrotech', body={'query': {'match': {'name': 'transformers'}}})\n",
        "hits = hits['hits']['hits']\n",
        "for hit in hits:\n",
        "  print(hit['_source']['name'])\n"
      ],
      "metadata": {
        "colab": {
          "base_uri": "https://localhost:8080/"
        },
        "id": "CkF5wDm6oWVk",
        "outputId": "84825f03-1171-4c4b-83f1-e1cc2a193155"
      },
      "execution_count": null,
      "outputs": [
        {
          "output_type": "stream",
          "name": "stdout",
          "text": [
            "Transformers - DVD\n",
            "Transformers - Original Soundtrack - CD\n",
            "The Transformers: The Movie - DVD\n",
            "Nintendo - Transformers 3 Cybertanium Case\n",
            "Transformers Japanese Collection: Headmasters - DVD\n",
            "Transformers: War for Cybertron - Windows\n",
            "Transformers: Cybertron Adventures - Nintendo Wii\n",
            "Transformers: The Game - PlayStation 3\n",
            "Transformers/Transformers: Revenge of the Fallen: Two-Movie Mega Collection [2 Discs] - Widescreen - DVD\n",
            "Transformers Prime: Darkness Rising - Fullscreen - DVD\n"
          ]
        }
      ]
    },
    {
      "cell_type": "markdown",
      "source": [
        "## Cleanup when done..."
      ],
      "metadata": {
        "id": "1XbVZlCVesQ4"
      }
    },
    {
      "cell_type": "code",
      "source": [
        "es.indices.delete('retrotech')"
      ],
      "metadata": {
        "id": "fL9JVykVoiTe",
        "colab": {
          "base_uri": "https://localhost:8080/"
        },
        "outputId": "b9704d1b-3dfe-4b01-91ed-2bf65d0b35b3"
      },
      "execution_count": null,
      "outputs": [
        {
          "output_type": "execute_result",
          "data": {
            "text/plain": [
              "{'acknowledged': True}"
            ]
          },
          "metadata": {},
          "execution_count": 6
        }
      ]
    },
    {
      "cell_type": "code",
      "source": [],
      "metadata": {
        "id": "54wZTBzretcM"
      },
      "execution_count": null,
      "outputs": []
    }
  ]
}